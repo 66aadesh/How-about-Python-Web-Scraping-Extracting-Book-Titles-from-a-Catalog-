{
 "cells": [
  {
   "cell_type": "code",
   "execution_count": 10,
   "metadata": {},
   "outputs": [],
   "source": [
    "import bs4\n",
    "import requests\n",
    "import lxml"
   ]
  },
  {
   "cell_type": "code",
   "execution_count": 11,
   "metadata": {},
   "outputs": [],
   "source": [
    "link = requests.get('https://books.toscrape.com/catalogue/page-1.html')"
   ]
  },
  {
   "cell_type": "code",
   "execution_count": null,
   "metadata": {},
   "outputs": [],
   "source": [
    "to_scrape = bs4.BeautifulSoup(link.text, \"lxml\")\n",
    "\n",
    "#print(to_scrape)\n",
    "print(to_scrape.prettify())"
   ]
  },
  {
   "cell_type": "code",
   "execution_count": 50,
   "metadata": {},
   "outputs": [],
   "source": [
    "h3_list = to_scrape.select('h3')"
   ]
  },
  {
   "cell_type": "code",
   "execution_count": null,
   "metadata": {},
   "outputs": [],
   "source": [
    "h3_list[0]\n",
    "\n",
    "start_index = str(h3_list[0]).find('title=\"') + len('title=\"')\n",
    "end_index = str(h3_list[0]).find('\">')\n",
    "\n",
    "extracted_string = str(h3_list[0])[start_index:end_index]\n",
    "\n",
    "print(extracted_string)"
   ]
  },
  {
   "cell_type": "code",
   "execution_count": null,
   "metadata": {},
   "outputs": [],
   "source": [
    "h3_list[1]"
   ]
  },
  {
   "cell_type": "code",
   "execution_count": null,
   "metadata": {},
   "outputs": [],
   "source": [
    "title_list = []\n",
    "\n",
    "for i in h3_list:\n",
    "    start_index1 = str(i).find('title=\"') + len('title=\"')\n",
    "    end_index1 = str(i).find('\">')\n",
    "    extracted_string1 = str(i)[start_index1:end_index1]\n",
    "    title_list.append(extracted_string1)\n",
    "\n",
    "title_list"
   ]
  },
  {
   "cell_type": "code",
   "execution_count": 76,
   "metadata": {},
   "outputs": [],
   "source": [
    "link_1 = 'https://books.toscrape.com/catalogue/page-{}.html'\n",
    "\n",
    "link1 = requests.get(link_1.format('2'))"
   ]
  },
  {
   "cell_type": "code",
   "execution_count": null,
   "metadata": {},
   "outputs": [],
   "source": [
    "to_scrape1 = bs4.BeautifulSoup(link1.text, \"lxml\")\n",
    "\n",
    "print(to_scrape1.prettify())"
   ]
  },
  {
   "cell_type": "code",
   "execution_count": 79,
   "metadata": {},
   "outputs": [],
   "source": [
    "h3_list_1 = to_scrape1.select('h3')"
   ]
  },
  {
   "cell_type": "code",
   "execution_count": null,
   "metadata": {},
   "outputs": [],
   "source": [
    "title_list_1 = []\n",
    "\n",
    "for i in h3_list_1:\n",
    "    start_index2 = str(i).find('title=\"') + len('title=\"')\n",
    "    end_index2 = str(i).find('\">')\n",
    "    extracted_string2 = str(i)[start_index2:end_index2]\n",
    "    title_list_1.append(extracted_string2)\n",
    "\n",
    "title_list_1"
   ]
  },
  {
   "cell_type": "code",
   "execution_count": 83,
   "metadata": {},
   "outputs": [],
   "source": [
    "all_titles = []\n",
    "\n",
    "for n in range(1,51):\n",
    "\n",
    "    scrape_url=link_1.format(n)\n",
    "    result=requests.get(scrape_url)\n",
    "\n",
    "    soup=bs4.BeautifulSoup(result.text, \"lxml\")\n",
    "    h3_lists=soup.select('h3')\n",
    "\n",
    "    for i in h3_lists:\n",
    "        start_index3 = str(i).find('title=\"') + len('title=\"')\n",
    "        end_index3 = str(i).find('\">')\n",
    "        extracted_string3 = str(i)[start_index3:end_index3]\n",
    "        all_titles.append(extracted_string3)\n",
    "\n",
    "\n"
   ]
  },
  {
   "cell_type": "code",
   "execution_count": null,
   "metadata": {},
   "outputs": [],
   "source": [
    "len(all_titles)\n",
    "\n",
    "all_titles"
   ]
  },
  {
   "cell_type": "code",
   "execution_count": null,
   "metadata": {},
   "outputs": [],
   "source": [
    "import bs4\n",
    "import requests\n",
    "\n",
    "# Get the content of the first page and parse it using BeautifulSoup\n",
    "link = requests.get('https://books.toscrape.com/catalogue/page-1.html')\n",
    "to_scrape = bs4.BeautifulSoup(link.text, \"lxml\")\n",
    "\n",
    "# Extract all h3 elements\n",
    "h3_list = to_scrape.select('h3')\n",
    "\n",
    "# Example of extracting the title from the first h3 element\n",
    "start_index = str(h3_list[0]).find('title=\"') + len('title=\"')\n",
    "end_index = str(h3_list[0]).find('\">')\n",
    "extracted_string = str(h3_list[0])[start_index:end_index]\n",
    "print(extracted_string)\n",
    "\n",
    "# Loop through h3 elements to extract titles and store them in title_list\n",
    "title_list = []\n",
    "for i in h3_list:\n",
    "    start_index1 = str(i).find('title=\"') + len('title=\"')\n",
    "    end_index1 = str(i).find('\">')\n",
    "    extracted_string1 = str(i)[start_index1:end_index1]\n",
    "    title_list.append(extracted_string1)\n",
    "\n",
    "# Retrieve and parse the second page\n",
    "link_1 = 'https://books.toscrape.com/catalogue/page-{}.html'\n",
    "link1 = requests.get(link_1.format('2'))\n",
    "to_scrape1 = bs4.BeautifulSoup(link1.text, \"lxml\")\n",
    "\n",
    "# Extract h3 elements from the second page\n",
    "h3_list_1 = to_scrape1.select('h3')\n",
    "\n",
    "# Extract titles from h3 elements and store in title_list_1\n",
    "title_list_1 = []\n",
    "for i in h3_list_1:\n",
    "    start_index2 = str(i).find('title=\"') + len('title=\"')\n",
    "    end_index2 = str(i).find('\">')\n",
    "    extracted_string2 = str(i)[start_index2:end_index2]\n",
    "    title_list_1.append(extracted_string2)\n",
    "\n",
    "# Loop through 50 pages to extract all titles and store in all_titles\n",
    "all_titles = []\n",
    "for n in range(1, 51):\n",
    "    # Construct URL for each page\n",
    "    scrape_url = link_1.format(n)\n",
    "    result = requests.get(scrape_url)\n",
    "\n",
    "    # Parse the HTML content of the page\n",
    "    soup = bs4.BeautifulSoup(result.text, \"lxml\")\n",
    "    h3_lists = soup.select('h3')\n",
    "\n",
    "    # Extract titles from h3 elements and append to all_titles\n",
    "    for i in h3_lists:\n",
    "        start_index3 = str(i).find('title=\"') + len('title=\"')\n",
    "        end_index3 = str(i).find('\">')\n",
    "        extracted_string3 = str(i)[start_index3:end_index3]\n",
    "        all_titles.append(extracted_string3)\n",
    "\n",
    "# Count and print the total number of titles collected\n",
    "print(len(all_titles))\n",
    "\n",
    "# Display all titles collected\n",
    "print(all_titles)\n"
   ]
  }
 ],
 "metadata": {
  "kernelspec": {
   "display_name": "base",
   "language": "python",
   "name": "python3"
  },
  "language_info": {
   "codemirror_mode": {
    "name": "ipython",
    "version": 3
   },
   "file_extension": ".py",
   "mimetype": "text/x-python",
   "name": "python",
   "nbconvert_exporter": "python",
   "pygments_lexer": "ipython3",
   "version": "3.11.4"
  }
 },
 "nbformat": 4,
 "nbformat_minor": 2
}
